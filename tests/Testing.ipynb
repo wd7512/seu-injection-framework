{
 "cells": [
  {
   "cell_type": "markdown",
   "metadata": {},
   "source": [
    "# Example Network"
   ]
  },
  {
   "cell_type": "code",
   "execution_count": 2,
   "metadata": {},
   "outputs": [
    {
     "name": "stdout",
     "output_type": "stream",
     "text": [
      "\n",
      "#####nn#####\n",
      "\n",
      "Trained nn accuracy: 0.9533\n",
      "Testing a forward pass on cuda...\n",
      "Basline Criterion Score: 0.9533333333333334\n",
      "Average criterion post seu: 0.8837373737373737\n",
      "\n",
      "#####cnn#####\n",
      "\n",
      "Trained cnn accuracy: 0.9633\n",
      "Testing a forward pass on cuda...\n",
      "Basline Criterion Score: 0.9633333333333334\n",
      "Average criterion post seu: 0.9031292517006803\n",
      "\n",
      "#####rnn#####\n",
      "\n",
      "Trained rnn accuracy: 0.9600\n",
      "Testing a forward pass on cuda...\n",
      "Basline Criterion Score: 0.96\n",
      "Average criterion post seu: 0.938384879725086\n"
     ]
    }
   ],
   "source": [
    "import os\n",
    "\n",
    "current_dir = os.getcwd()\n",
    "parent_dir = os.path.dirname(current_dir)\n",
    "os.chdir(parent_dir)\n",
    "\n",
    "import tests.example_networks as en\n",
    "from framework.attack import Injector\n",
    "from framework.criterion import classification_accuracy\n",
    "import pandas as pd\n",
    "\n",
    "os.chdir(current_dir)\n",
    "\n",
    "nets = [\"nn\", \"cnn\", \"rnn\"]\n",
    "\n",
    "\n",
    "for net in nets:\n",
    "    print(f\"\\n#####{net}#####\\n\")\n",
    "    # Get a trained simple NN model directly\n",
    "    model, X_train, X_test, y_train, y_test, train_fn, eval_fn = en.get_example_network(net, train=True, epochs=500)\n",
    "\n",
    "    # Evaluate right away\n",
    "    acc = eval_fn(model, X_test, y_test)\n",
    "    print(f\"Trained {net} accuracy: {acc:.4f}\")\n",
    "\n",
    "    inj = Injector(model, X_test, y_test, classification_accuracy)\n",
    "\n",
    "    results = inj.run_seu(0)\n",
    "\n",
    "    results = pd.DataFrame(results)\n",
    "    print(\"Average criterion post seu:\", results[\"criterion_score\"].mean())"
   ]
  }
 ],
 "metadata": {
  "kernelspec": {
   "display_name": ".venv",
   "language": "python",
   "name": "python3"
  },
  "language_info": {
   "codemirror_mode": {
    "name": "ipython",
    "version": 3
   },
   "file_extension": ".py",
   "mimetype": "text/x-python",
   "name": "python",
   "nbconvert_exporter": "python",
   "pygments_lexer": "ipython3",
   "version": "3.11.9"
  }
 },
 "nbformat": 4,
 "nbformat_minor": 4
}
