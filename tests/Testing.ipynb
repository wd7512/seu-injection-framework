{
 "cells": [
  {
   "cell_type": "markdown",
   "metadata": {},
   "source": [
    "# Example Network"
   ]
  },
  {
   "cell_type": "code",
   "execution_count": 2,
   "metadata": {},
   "outputs": [
    {
     "ename": "ImportError",
     "evalue": "cannot import name 'Injector' from 'framework.attack' (c:\\Repositories\\seu-injection-framework\\framework\\attack.py)",
     "output_type": "error",
     "traceback": [
      "\u001b[31m---------------------------------------------------------------------------\u001b[39m",
      "\u001b[31mImportError\u001b[39m                               Traceback (most recent call last)",
      "\u001b[36mCell\u001b[39m\u001b[36m \u001b[39m\u001b[32mIn[2]\u001b[39m\u001b[32m, line 8\u001b[39m\n\u001b[32m      5\u001b[39m os.chdir(parent_dir)\n\u001b[32m      7\u001b[39m \u001b[38;5;28;01mimport\u001b[39;00m\u001b[38;5;250m \u001b[39m\u001b[34;01mtests\u001b[39;00m\u001b[34;01m.\u001b[39;00m\u001b[34;01mexample_networks\u001b[39;00m\u001b[38;5;250m \u001b[39m\u001b[38;5;28;01mas\u001b[39;00m\u001b[38;5;250m \u001b[39m\u001b[34;01men\u001b[39;00m\n\u001b[32m----> \u001b[39m\u001b[32m8\u001b[39m \u001b[38;5;28;01mfrom\u001b[39;00m\u001b[38;5;250m \u001b[39m\u001b[34;01mframework\u001b[39;00m\u001b[34;01m.\u001b[39;00m\u001b[34;01mattack\u001b[39;00m\u001b[38;5;250m \u001b[39m\u001b[38;5;28;01mimport\u001b[39;00m Injector\n\u001b[32m      9\u001b[39m \u001b[38;5;28;01mfrom\u001b[39;00m\u001b[38;5;250m \u001b[39m\u001b[34;01mframework\u001b[39;00m\u001b[34;01m.\u001b[39;00m\u001b[34;01mcriterion\u001b[39;00m\u001b[38;5;250m \u001b[39m\u001b[38;5;28;01mimport\u001b[39;00m binary_classifcation_accuracy\n\u001b[32m     10\u001b[39m \u001b[38;5;28;01mimport\u001b[39;00m\u001b[38;5;250m \u001b[39m\u001b[34;01mpandas\u001b[39;00m\u001b[38;5;250m \u001b[39m\u001b[38;5;28;01mas\u001b[39;00m\u001b[38;5;250m \u001b[39m\u001b[34;01mpd\u001b[39;00m\n",
      "\u001b[31mImportError\u001b[39m: cannot import name 'Injector' from 'framework.attack' (c:\\Repositories\\seu-injection-framework\\framework\\attack.py)"
     ]
    }
   ],
   "source": [
    "import os\n",
    "\n",
    "current_dir = os.getcwd()\n",
    "parent_dir = os.path.dirname(current_dir)\n",
    "os.chdir(parent_dir)\n",
    "\n",
    "import tests.example_networks as en\n",
    "from framework.attack import Injector\n",
    "from framework.criterion import binary_classifcation_accuracy\n",
    "import pandas as pd\n",
    "\n",
    "os.chdir(current_dir)\n",
    "\n",
    "nets = [\"nn\", \"cnn\", \"rnn\"]\n",
    "\n",
    "\n",
    "for net in nets:\n",
    "    print(f\"\\n#####{net}#####\\n\")\n",
    "    # Get a trained simple NN model directly\n",
    "    model, X_train, X_test, y_train, y_test, train_fn, eval_fn = en.get_example_network(net, train=True, epochs=500)\n",
    "\n",
    "    # Evaluate right away\n",
    "    acc = eval_fn(model, X_test, y_test)\n",
    "    print(f\"Trained {net} accuracy: {acc:.4f}\")\n",
    "\n",
    "    inj = Injector(model, X_test, y_test, binary_classifcation_accuracy)\n",
    "\n",
    "    results = inj.run_seu(0)\n",
    "\n",
    "    results = pd.DataFrame(results)\n",
    "    print(\"Average criterion post seu:\", results[\"criterion_score\"].mean())"
   ]
  }
 ],
 "metadata": {
  "kernelspec": {
   "display_name": ".venv",
   "language": "python",
   "name": "python3"
  },
  "language_info": {
   "codemirror_mode": {
    "name": "ipython",
    "version": 3
   },
   "file_extension": ".py",
   "mimetype": "text/x-python",
   "name": "python",
   "nbconvert_exporter": "python",
   "pygments_lexer": "ipython3",
   "version": "3.11.9"
  }
 },
 "nbformat": 4,
 "nbformat_minor": 4
}
