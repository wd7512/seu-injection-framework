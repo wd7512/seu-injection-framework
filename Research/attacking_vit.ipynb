{
 "cells": [
  {
   "cell_type": "code",
   "execution_count": 1,
   "id": "79e53297",
   "metadata": {},
   "outputs": [],
   "source": [
    "import os\n",
    "import sys\n",
    "\n",
    "# Save current working directory\n",
    "cwd = os.getcwd()\n",
    "\n",
    "# Change to parent directory\n",
    "parent_dir = os.path.abspath(os.path.join(cwd, '..'))\n",
    "os.chdir(parent_dir)\n",
    "\n",
    "# Temporarily add parent directory to sys.path\n",
    "sys.path.insert(0, parent_dir)\n",
    "import framework\n",
    "sys.path.pop(0)\n",
    "\n",
    "# Return to original directory\n",
    "os.chdir(cwd)"
   ]
  },
  {
   "cell_type": "code",
   "execution_count": 2,
   "id": "8738e859",
   "metadata": {},
   "outputs": [
    {
     "data": {
      "text/plain": [
       "<All keys matched successfully>"
      ]
     },
     "execution_count": 2,
     "metadata": {},
     "output_type": "execute_result"
    }
   ],
   "source": [
    "import torch\n",
    "from torchvision import datasets, transforms\n",
    "from torch.utils.data import DataLoader\n",
    "from torchvision.models import vit_b_32, ViT_B_32_Weights\n",
    "from torch import nn, optim\n",
    "from tqdm import tqdm\n",
    "\n",
    "weights = ViT_B_32_Weights.DEFAULT\n",
    "# Transform matching ImageNet-trained model\n",
    "transform = transforms.Compose([\n",
    "    transforms.Resize((224, 224)),\n",
    "    transforms.ToTensor(),\n",
    "    weights.transforms()\n",
    "])\n",
    "\n",
    "model = vit_b_32()\n",
    "model.heads = nn.Linear(in_features = 768, out_features = 100, bias = True)\n",
    "\n",
    "device = \"cuda\"\n",
    "state_dict = torch.load('model_weights.pth', map_location=device)\n",
    "model.load_state_dict(state_dict)"
   ]
  },
  {
   "cell_type": "code",
   "execution_count": 3,
   "id": "b7d4252b",
   "metadata": {},
   "outputs": [
    {
     "name": "stdout",
     "output_type": "stream",
     "text": [
      "Files already downloaded and verified\n"
     ]
    },
    {
     "name": "stderr",
     "output_type": "stream",
     "text": [
      "100%|██████████| 157/157 [00:17<00:00,  8.96it/s]\n",
      "c:\\Repositories\\seu-injection-framework\\.venv\\Lib\\site-packages\\torch\\nn\\modules\\activation.py:1196: UserWarning: 1Torch was not compiled with flash attention. (Triggered internally at ..\\aten\\src\\ATen\\native\\transformers\\cuda\\sdp_utils.cpp:263.)\n",
      "  return torch._native_multi_head_attention(\n"
     ]
    },
    {
     "data": {
      "text/plain": [
       "0.0348"
      ]
     },
     "execution_count": 3,
     "metadata": {},
     "output_type": "execute_result"
    }
   ],
   "source": [
    "from tqdm import tqdm\n",
    "\n",
    "test_data = datasets.CIFAR100(root='./data', train=False, download=True, transform=transform)\n",
    "test_loader = DataLoader(test_data, batch_size=64)\n",
    "\n",
    "from framework.criterion import classification_accuracy\n",
    "\n",
    "all_images = []\n",
    "all_labels = []\n",
    "\n",
    "for images, labels in tqdm(test_loader):\n",
    "    all_images.append(images)\n",
    "    all_labels.append(labels)\n",
    "\n",
    "X_tensor = torch.cat(all_images).to(device)\n",
    "y_true = torch.cat(all_labels).to(device)\n",
    "\n",
    "classification_accuracy(model, X_tensor, y_true, device)"
   ]
  },
  {
   "cell_type": "code",
   "execution_count": 4,
   "id": "a686294f",
   "metadata": {},
   "outputs": [
    {
     "name": "stdout",
     "output_type": "stream",
     "text": [
      "Testing a forward pass on cuda...\n",
      "Basline Criterion Score: 0.0348\n"
     ]
    }
   ],
   "source": [
    "from framework.attack import Injector\n",
    "\n",
    "inj = Injector(model, X_tensor, y_true, classification_accuracy, device=device)"
   ]
  },
  {
   "cell_type": "code",
   "execution_count": 5,
   "id": "90b378b1",
   "metadata": {},
   "outputs": [
    {
     "name": "stdout",
     "output_type": "stream",
     "text": [
      "Testing Layer:  heads.bias\n"
     ]
    },
    {
     "name": "stderr",
     "output_type": "stream",
     "text": [
      "100it [01:52,  1.13s/it]\n"
     ]
    },
    {
     "data": {
      "text/plain": [
       "{'tensor_location': [(28,), (29,), (50,), (79,), (80,), (85,)],\n",
       " 'criterion_score': [0.01, 0.0348, 0.01, 0.01, 0.01, 0.0348],\n",
       " 'layer_name': ['heads.bias',\n",
       "  'heads.bias',\n",
       "  'heads.bias',\n",
       "  'heads.bias',\n",
       "  'heads.bias',\n",
       "  'heads.bias'],\n",
       " 'value_before': [0.0047611212,\n",
       "  -0.010861064,\n",
       "  0.022124333,\n",
       "  0.022607008,\n",
       "  0.008148461,\n",
       "  -0.002507337],\n",
       " 'value_after': [1.6201256033114394e+36,\n",
       "  -3.6958286697997516e+36,\n",
       "  7.528520504303744e+36,\n",
       "  7.692766189623515e+36,\n",
       "  2.7727774763881643e+36,\n",
       "  -8.532025361447367e+35]}"
      ]
     },
     "execution_count": 5,
     "metadata": {},
     "output_type": "execute_result"
    }
   ],
   "source": [
    "layer_name = \"heads.bias\"\n",
    "\n",
    "results = inj.run_stochastic_seu(1,1/20,layer_name)\n",
    "\n",
    "results"
   ]
  },
  {
   "cell_type": "code",
   "execution_count": 6,
   "id": "f637ff28",
   "metadata": {},
   "outputs": [
    {
     "data": {
      "text/html": [
       "<div>\n",
       "<style scoped>\n",
       "    .dataframe tbody tr th:only-of-type {\n",
       "        vertical-align: middle;\n",
       "    }\n",
       "\n",
       "    .dataframe tbody tr th {\n",
       "        vertical-align: top;\n",
       "    }\n",
       "\n",
       "    .dataframe thead th {\n",
       "        text-align: right;\n",
       "    }\n",
       "</style>\n",
       "<table border=\"1\" class=\"dataframe\">\n",
       "  <thead>\n",
       "    <tr style=\"text-align: right;\">\n",
       "      <th></th>\n",
       "      <th>tensor_location</th>\n",
       "      <th>criterion_score</th>\n",
       "      <th>layer_name</th>\n",
       "      <th>value_before</th>\n",
       "      <th>value_after</th>\n",
       "    </tr>\n",
       "  </thead>\n",
       "  <tbody>\n",
       "    <tr>\n",
       "      <th>0</th>\n",
       "      <td>(28,)</td>\n",
       "      <td>0.0100</td>\n",
       "      <td>heads.bias</td>\n",
       "      <td>0.004761</td>\n",
       "      <td>1.620126e+36</td>\n",
       "    </tr>\n",
       "    <tr>\n",
       "      <th>1</th>\n",
       "      <td>(29,)</td>\n",
       "      <td>0.0348</td>\n",
       "      <td>heads.bias</td>\n",
       "      <td>-0.010861</td>\n",
       "      <td>-3.695829e+36</td>\n",
       "    </tr>\n",
       "    <tr>\n",
       "      <th>2</th>\n",
       "      <td>(50,)</td>\n",
       "      <td>0.0100</td>\n",
       "      <td>heads.bias</td>\n",
       "      <td>0.022124</td>\n",
       "      <td>7.528521e+36</td>\n",
       "    </tr>\n",
       "    <tr>\n",
       "      <th>3</th>\n",
       "      <td>(79,)</td>\n",
       "      <td>0.0100</td>\n",
       "      <td>heads.bias</td>\n",
       "      <td>0.022607</td>\n",
       "      <td>7.692766e+36</td>\n",
       "    </tr>\n",
       "    <tr>\n",
       "      <th>4</th>\n",
       "      <td>(80,)</td>\n",
       "      <td>0.0100</td>\n",
       "      <td>heads.bias</td>\n",
       "      <td>0.008148</td>\n",
       "      <td>2.772777e+36</td>\n",
       "    </tr>\n",
       "    <tr>\n",
       "      <th>5</th>\n",
       "      <td>(85,)</td>\n",
       "      <td>0.0348</td>\n",
       "      <td>heads.bias</td>\n",
       "      <td>-0.002507</td>\n",
       "      <td>-8.532025e+35</td>\n",
       "    </tr>\n",
       "  </tbody>\n",
       "</table>\n",
       "</div>"
      ],
      "text/plain": [
       "  tensor_location  criterion_score  layer_name  value_before   value_after\n",
       "0           (28,)           0.0100  heads.bias      0.004761  1.620126e+36\n",
       "1           (29,)           0.0348  heads.bias     -0.010861 -3.695829e+36\n",
       "2           (50,)           0.0100  heads.bias      0.022124  7.528521e+36\n",
       "3           (79,)           0.0100  heads.bias      0.022607  7.692766e+36\n",
       "4           (80,)           0.0100  heads.bias      0.008148  2.772777e+36\n",
       "5           (85,)           0.0348  heads.bias     -0.002507 -8.532025e+35"
      ]
     },
     "execution_count": 6,
     "metadata": {},
     "output_type": "execute_result"
    }
   ],
   "source": [
    "import pandas as pd\n",
    "\n",
    "pd.DataFrame(results)"
   ]
  }
 ],
 "metadata": {
  "kernelspec": {
   "display_name": ".venv",
   "language": "python",
   "name": "python3"
  },
  "language_info": {
   "codemirror_mode": {
    "name": "ipython",
    "version": 3
   },
   "file_extension": ".py",
   "mimetype": "text/x-python",
   "name": "python",
   "nbconvert_exporter": "python",
   "pygments_lexer": "ipython3",
   "version": "3.11.9"
  }
 },
 "nbformat": 4,
 "nbformat_minor": 5
}
